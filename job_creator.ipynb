{
 "cells": [
  {
   "cell_type": "code",
   "execution_count": 7,
   "metadata": {},
   "outputs": [],
   "source": [
    "from typing import Generator, Iterable, Dict, List\n",
    "import datetime\n",
    "import tqdm\n",
    "from decimal import Decimal\n",
    "import numpy as np\n",
    "from dateutil import parser as date_parser\n",
    "from sklearn.model_selection import ParameterGrid, ParameterSampler\n",
    "import json\n",
    "\n",
    "from google.cloud import bigquery\n",
    "\n",
    "from more_itertools import chunked\n"
   ]
  },
  {
   "cell_type": "code",
   "execution_count": 8,
   "metadata": {},
   "outputs": [],
   "source": [
    "bq = bigquery.Client()"
   ]
  },
  {
   "cell_type": "code",
   "execution_count": 9,
   "metadata": {},
   "outputs": [],
   "source": [
    "def sample_execution_datetimes() -> List[datetime.datetime]:\n",
    "    query = '''\n",
    "    SELECT MIN(`timestamp`) AS `start_date`, MAX(`timestamp`) AS `end_date`\n",
    "    FROM `trading_terminal_poc.coinbase_raw_l2_order_book`\n",
    "    '''\n",
    "    result = bq.query(query).result()\n",
    "    df = result.to_dataframe()\n",
    "\n",
    "    start_date, end_date = df.iloc[0].tolist()\n",
    "\n",
    "    start_datetime = start_date.to_pydatetime()\n",
    "    end_datetime = end_date.to_pydatetime()\n",
    "\n",
    "    n_day = (end_datetime - start_datetime).days\n",
    "    n_sample_per_day = 24\n",
    "\n",
    "    rand = np.random.RandomState(17)\n",
    "    random_timestamps = rand.uniform(start_datetime.timestamp(),\n",
    "                                            end_datetime.timestamp(),\n",
    "                                            size=n_day * n_sample_per_day,\n",
    "                                            )\n",
    "\n",
    "    sample_datetimes = list(map(datetime.datetime.fromtimestamp, random_timestamps))\n",
    "    return sample_datetimes"
   ]
  },
  {
   "cell_type": "code",
   "execution_count": 10,
   "metadata": {},
   "outputs": [],
   "source": [
    "symbols = [\"BTC-USD\", \"SOL-USD\", \"ETH-USD\",\n",
    "            \"AVAX-USD\", \"ADA-USD\", \"LTC-USD\", \n",
    "            \"ATOM-USD\", \"MATIC-USD\", \n",
    "            \"LINK-USD\", \"XLM-USD\", \n",
    "            \"DOT-USD\",  \"BCH-USD\", \n",
    "            ]\n",
    "sampled_datetimes = sample_execution_datetimes()"
   ]
  },
  {
   "cell_type": "code",
   "execution_count": 11,
   "metadata": {},
   "outputs": [],
   "source": [
    "n_sample = 4320 * 10\n",
    "param_sampler = ParameterSampler({\n",
    "    'symbol': symbols,\n",
    "    'side': ['buy', 'sell'],\n",
    "    'start_execution_datetime': sampled_datetimes,\n",
    "    'max_processing_time': [60*60],  # 1 Hour\n",
    "    'percentage': [0.001, 0.0025, 0.0075, 0.025, 0.075, 0.1],\n",
    "    'acceptable_slippage': [0.0025, 0.0075, 0.025, 0.05],\n",
    "    'delay': [1, 2, 5, 8, 10],\n",
    "    'target_order_amount': [100_000, 300_000, 5_000_000]\n",
    "}, n_iter=n_sample, random_state=7)\n",
    "\n"
   ]
  },
  {
   "cell_type": "code",
   "execution_count": 12,
   "metadata": {},
   "outputs": [],
   "source": [
    "def build_job_inventory_payload(params) -> list:\n",
    "\n",
    "    payloads = []\n",
    "    load_dt = datetime.datetime.now().isoformat()\n",
    "    for i, param in enumerate(params):\n",
    "        payload = {\n",
    "            'id': i,\n",
    "            'algorithm': 'PoV',\n",
    "            'param': json.dumps(param, default=str),\n",
    "            'status': 'CREATED',\n",
    "            'load_dt': load_dt\n",
    "        }\n",
    "        payloads.append(payload)\n",
    "    \n",
    "    return payloads"
   ]
  },
  {
   "cell_type": "code",
   "execution_count": 13,
   "metadata": {},
   "outputs": [],
   "source": [
    "payload_json = build_job_inventory_payload(param_sampler)"
   ]
  },
  {
   "cell_type": "code",
   "execution_count": 14,
   "metadata": {},
   "outputs": [
    {
     "name": "stderr",
     "output_type": "stream",
     "text": [
      "100%|█████████▉| 168/168.75 [00:14<00:00, 12.65it/s]/Users/anythingth2/development/.python_virtual_env/cft_env/lib/python3.9/site-packages/tqdm/std.py:533: TqdmWarning: clamping frac to range [0, 1]\n",
      "  full_bar = Bar(frac,\n",
      "100%|██████████| 169/168.75 [00:14<00:00, 11.64it/s]\n"
     ]
    }
   ],
   "source": [
    "chunk_size = 256\n",
    "\n",
    "for payload in tqdm.tqdm(chunked(payload_json, chunk_size), total=len(payload_json) / chunk_size):\n",
    "    bq.insert_rows_json('trading_terminal_poc.job_inventory', payload)\n",
    "\n"
   ]
  },
  {
   "cell_type": "code",
   "execution_count": null,
   "metadata": {},
   "outputs": [],
   "source": []
  }
 ],
 "metadata": {
  "kernelspec": {
   "display_name": "Python 3.9.5 ('cft_env')",
   "language": "python",
   "name": "python3"
  },
  "language_info": {
   "codemirror_mode": {
    "name": "ipython",
    "version": 3
   },
   "file_extension": ".py",
   "mimetype": "text/x-python",
   "name": "python",
   "nbconvert_exporter": "python",
   "pygments_lexer": "ipython3",
   "version": "3.9.5"
  },
  "orig_nbformat": 4,
  "vscode": {
   "interpreter": {
    "hash": "9bffb0394863b1caba12b1d2b455fe953b0c7ad625f1c79830bd50badf740e02"
   }
  }
 },
 "nbformat": 4,
 "nbformat_minor": 2
}
